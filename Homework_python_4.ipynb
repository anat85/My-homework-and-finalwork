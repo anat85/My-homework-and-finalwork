{
 "cells": [
  {
   "cell_type": "code",
   "execution_count": 2,
   "id": "8f16313c",
   "metadata": {},
   "outputs": [],
   "source": [
    "import json"
   ]
  },
  {
   "cell_type": "code",
   "execution_count": 70,
   "id": "71349e51",
   "metadata": {},
   "outputs": [],
   "source": [
    "purchases = {}\n",
    "with open('purchase_log.txt', encoding='utf-8') as pur:\n",
    "    purch = pur.readlines()\n",
    "    for k in purch:\n",
    "        value_ = json.loads(k)\n",
    "        purchases[value_['user_id']] = value_['category']"
   ]
  },
  {
   "cell_type": "code",
   "execution_count": 72,
   "id": "2502c381",
   "metadata": {},
   "outputs": [
    {
     "name": "stdout",
     "output_type": "stream",
     "text": [
      "user_id category\n",
      "1840e0b9d4 Продукты\n",
      "4e4f90fcfb Электроника\n",
      "afea8d72fc Электроника\n",
      "373a6055fe Бытовая техника\n",
      "9b2ab046f3 Электроника\n",
      "9f39d307c3 Электроника\n",
      "44edeffc91 Продукты\n",
      "704474fa2d Продукты\n",
      "1de31be403 Бытовая техника\n",
      "b71f36a5e4 Продукты\n"
     ]
    }
   ],
   "source": [
    "i = 0\n",
    "for k, v in purchases.items():\n",
    "     print(k, v)\n",
    "     i += 1\n",
    "     if i > 10:\n",
    "        break"
   ]
  },
  {
   "cell_type": "code",
   "execution_count": 90,
   "id": "d140364a",
   "metadata": {},
   "outputs": [],
   "source": [
    "import os"
   ]
  },
  {
   "cell_type": "code",
   "execution_count": 80,
   "id": "0c2bc5ec",
   "metadata": {},
   "outputs": [],
   "source": [
    "with open('visit_log.csv', 'r', encoding='utf-8') as v:\n",
    "    with open('funnel.csv', 'w') as f:\n",
    "        for line in v:\n",
    "            line = line.strip().split(',')\n",
    "            x, y = line\n",
    "            if 'None' not in y and x in purchases:\n",
    "                f.write(f\" {x} {y} {purchases[x]}\\n\")"
   ]
  }
 ],
 "metadata": {
  "kernelspec": {
   "display_name": "Python 3 (ipykernel)",
   "language": "python",
   "name": "python3"
  },
  "language_info": {
   "codemirror_mode": {
    "name": "ipython",
    "version": 3
   },
   "file_extension": ".py",
   "mimetype": "text/x-python",
   "name": "python",
   "nbconvert_exporter": "python",
   "pygments_lexer": "ipython3",
   "version": "3.9.12"
  }
 },
 "nbformat": 4,
 "nbformat_minor": 5
}
# homework_python4
